{
  "nbformat": 4,
  "nbformat_minor": 0,
  "metadata": {
    "colab": {
      "name": "20055_컨베이어 벨트 위의 로봇.ipynb",
      "provenance": [],
      "collapsed_sections": [],
      "authorship_tag": "ABX9TyMmYYYlaPFmzWOL7UDAThHW",
      "include_colab_link": true
    },
    "kernelspec": {
      "name": "python3",
      "display_name": "Python 3"
    },
    "language_info": {
      "name": "python"
    }
  },
  "cells": [
    {
      "cell_type": "markdown",
      "metadata": {
        "id": "view-in-github",
        "colab_type": "text"
      },
      "source": [
        "<a href=\"https://colab.research.google.com/github/1cg2cg3cg/BOJ/blob/main/20055_%EC%BB%A8%EB%B2%A0%EC%9D%B4%EC%96%B4_%EB%B2%A8%ED%8A%B8_%EC%9C%84%EC%9D%98_%EB%A1%9C%EB%B4%87.ipynb\" target=\"_parent\"><img src=\"https://colab.research.google.com/assets/colab-badge.svg\" alt=\"Open In Colab\"/></a>"
      ]
    },
    {
      "cell_type": "code",
      "metadata": {
        "id": "8FZOkFHt5RGY"
      },
      "source": [
        "import collections\n",
        "\n",
        "N, K = map(int, input().split())\n",
        "A = collections.deque(list(map(int, input().split()))) \n",
        "robots = collections.deque([0] * (2*N))\n",
        "answer = 0\n",
        "\n",
        "while True :\n",
        "\n",
        "    if A.count(0) >= K :\n",
        "        break\n",
        "\n",
        "    A.appendleft(A.pop())   # rotate\n",
        "    robots.appendleft(robots.pop())\n",
        "    robots[N-1] = 0 # N-1자리의 로봇 내리기\n",
        "\n",
        "    for i in range(N-1, 0, -1) : # move\n",
        "        if robots[i] > 0 and robots[i+1] < 1 and A[i+1] > 0 :\n",
        "            robots[i], robots[i+1] = 0, 1\n",
        "            A[i+1] -= 1\n",
        "\n",
        "    \n",
        "    if robots[N-1] > 0 : # 한 칸 이동해서 N-1이 되는 로봇 내리기\n",
        "        robots[N-1] = 0\n",
        "\n",
        "    if A[0] > 0 and robots[0] < 1 : # 로봇 올리기\n",
        "        A[0] -= 1\n",
        "        robots[0] = 1\n",
        "\n",
        "    answer += 1\n",
        "\n",
        "print(answer)"
      ],
      "execution_count": null,
      "outputs": []
    },
    {
      "cell_type": "code",
      "metadata": {
        "colab": {
          "base_uri": "https://localhost:8080/"
        },
        "id": "5XXniL3pAjQU",
        "outputId": "2ca60650-c47e-49e7-aee2-cb246e6146da"
      },
      "source": [
        "import collections\n",
        "\n",
        "\n",
        "N, K = map(int, '3 6'.split())\n",
        "A = collections.deque(list(map(int, '10 10 10 10 10 10'.split()))) \n",
        "robots = collections.deque([0] * (2*N))\n",
        "answer = 0\n",
        "\n",
        "while True :\n",
        "\n",
        "    if A.count(0) >= K :\n",
        "        break\n",
        "\n",
        "    A.appendleft(A.pop())   # rotate\n",
        "    robots.appendleft(robots.pop())\n",
        "    robots[N-1] = 0 # N-1자리의 로봇 내리기\n",
        "\n",
        "    for i in range(N-1, 0, -1) : # move\n",
        "        if robots[i] > 0 and robots[i+1] < 1 and A[i+1] > 0 :\n",
        "            robots[i], robots[i+1] = 0, 1\n",
        "            A[i+1] -= 1\n",
        "\n",
        "    \n",
        "    if robots[N-1] > 0 : # 한 칸 이동해서 N-1이 되는 로봇 down\n",
        "        robots[N-1] = 0\n",
        "\n",
        "    if A[0] > 0 and robots[0] < 1 : # up\n",
        "        A[0] -= 1\n",
        "        robots[0] = 1\n",
        "\n",
        "    answer += 1\n",
        "\n",
        "print(answer)"
      ],
      "execution_count": 58,
      "outputs": [
        {
          "output_type": "stream",
          "text": [
            "31\n"
          ],
          "name": "stdout"
        }
      ]
    }
  ]
}